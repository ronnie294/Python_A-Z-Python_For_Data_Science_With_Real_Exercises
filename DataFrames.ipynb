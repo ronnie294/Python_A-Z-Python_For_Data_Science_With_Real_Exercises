{
 "cells": [
  {
   "cell_type": "code",
   "execution_count": 62,
   "metadata": {},
   "outputs": [],
   "source": [
    "#Data \n",
    "revenue = [14574.49, 7606.46, 8611.41, 9175.41, 8058.65, 8105.44, 11496.28, 9766.09, 10305.32, 14379.96, 10713.97, 15433.50]\n",
    "expenses = [12051.82, 5695.07, 12319.20, 12089.72, 8658.57, 840.20, 3285.73, 5821.12, 6976.93, 16618.61, 10054.37, 3803.96]"
   ]
  },
  {
   "cell_type": "code",
   "execution_count": 63,
   "metadata": {},
   "outputs": [
    {
     "name": "stdout",
     "output_type": "stream",
     "text": [
      "Profit before tax is [ 2523.  1911. -3708. -2914.  -600.  7265.  8211.  3945.  3328. -2239.\n",
      "   660. 11630.]\n",
      "Profit after tax is [ 1766.  1338. -2595. -2040.  -420.  5086.  5747.  2761.  2330. -1567.\n",
      "   462.  8141.]\n",
      "Profit margin for each month is [ 12.  18. -30. -22.  -5.  63.  50.  28.  23. -11.   4.  53.]\n",
      "Mean is 1751.0\n",
      "Good months vector is ['T', 'F', 'F', 'F', 'F', 'T', 'T', 'T', 'T', 'F', 'F', 'T']\n",
      "Bad months vector is ['F', 'T', 'T', 'T', 'T', 'F', 'F', 'F', 'F', 'T', 'T', 'F']\n",
      "Max is 8141.0\n",
      "Profit after tax was highest in the month of 8141.0\n",
      "Min is -2595.0\n",
      "Profit after tax was lowest in the month of -2595.0\n"
     ]
    }
   ],
   "source": [
    "import numpy as np\n",
    "PFE=np.subtract(revenue,expenses)\n",
    "print('Profit before tax is',np.round(PFE))\n",
    "tax=np.round((PFE*0.3),2)\n",
    "PATE=np.subtract(PFE,tax)\n",
    "print('Profit after tax is',np.round(PATE))\n",
    "PMEM=np.round(np.divide(PATE,revenue)*100)\n",
    "print('Profit margin for each month is',PMEM)\n",
    "sum=np.sum(PATE)\n",
    "mean=sum/(len(PATE))\n",
    "print('Mean is',np.round(mean))\n",
    "GM=list()\n",
    "BM=list()\n",
    "counter1=0\n",
    "counter2=0\n",
    "for i in PATE:\n",
    "    if i>mean:\n",
    "        GM.insert(counter1,'T')\n",
    "        counter1=counter1+1\n",
    "    else: \n",
    "        GM.insert(counter1,'F')\n",
    "        counter1=counter1+1\n",
    "for j in PATE:\n",
    "    if j<mean:\n",
    "        BM.insert(counter2,'T')\n",
    "        counter2=counter2+1\n",
    "    else: \n",
    "        BM.insert(counter2,'F')\n",
    "        counter2=counter2+1\n",
    "print('Good months vector is',GM)\n",
    "print('Bad months vector is',BM)\n",
    "max=PATE.max()\n",
    "min=PATE.min()\n",
    "print('Max is',np.round(max))\n",
    "for k in PATE:\n",
    "    if k == max:\n",
    "        print('Profit after tax was highest in the month of',np.round(k))\n",
    "print('Min is',np.round(min))\n",
    "for k in PATE:\n",
    "    if k == min:\n",
    "        print('Profit after tax was lowest in the month of',np.round(k))\n",
    "    "
   ]
  },
  {
   "cell_type": "code",
   "execution_count": null,
   "metadata": {},
   "outputs": [],
   "source": []
  }
 ],
 "metadata": {
  "kernelspec": {
   "display_name": "Python 3",
   "language": "python",
   "name": "python3"
  },
  "language_info": {
   "codemirror_mode": {
    "name": "ipython",
    "version": 3
   },
   "file_extension": ".py",
   "mimetype": "text/x-python",
   "name": "python",
   "nbconvert_exporter": "python",
   "pygments_lexer": "ipython3",
   "version": "3.6.4"
  }
 },
 "nbformat": 4,
 "nbformat_minor": 1
}
